{
  "cells": [
    {
      "cell_type": "markdown",
      "metadata": {
        "id": "8ITz3MmfszMc"
      },
      "source": [
        "# Apprentissage supervisé\n",
        "---\n",
        "*Chadrack MAYAMBA HATU - MAM5 - 2024/2025*"
      ]
    },
    {
      "cell_type": "code",
      "execution_count": null,
      "metadata": {
        "id": "1sp0XQ8NszMf"
      },
      "outputs": [],
      "source": [
        "import numpy as np\n",
        "np.set_printoptions(threshold=10000,suppress=True)\n",
        "import pandas as pd\n",
        "import warnings\n",
        "import matplotlib.pyplot as plt\n",
        "warnings.filterwarnings('ignore')"
      ]
    },
    {
      "cell_type": "markdown",
      "metadata": {
        "id": "kpwGzP9DszMg"
      },
      "source": [
        "## I. Apprentissage supervisé: Feature engineering et classification\n",
        "\n",
        "L'objectif de cette partie est de construire un bon classifieur sur le jeu de données de crédit scoring."
      ]
    },
    {
      "cell_type": "markdown",
      "metadata": {
        "id": "4Or7W3sYszMh"
      },
      "source": [
        "### 1) Chargement des données et préparation\n",
        "\n",
        "Dans un premier temps on importe les données :"
      ]
    },
    {
      "cell_type": "code",
      "execution_count": null,
      "metadata": {
        "id": "fzNeqfADszMh",
        "outputId": "a7faf3b7-8761-4aeb-9c4f-d6604f875d07"
      },
      "outputs": [
        {
          "data": {
            "text/html": [
              "<div>\n",
              "<style scoped>\n",
              "    .dataframe tbody tr th:only-of-type {\n",
              "        vertical-align: middle;\n",
              "    }\n",
              "\n",
              "    .dataframe tbody tr th {\n",
              "        vertical-align: top;\n",
              "    }\n",
              "\n",
              "    .dataframe thead th {\n",
              "        text-align: right;\n",
              "    }\n",
              "</style>\n",
              "<table border=\"1\" class=\"dataframe\">\n",
              "  <thead>\n",
              "    <tr style=\"text-align: right;\">\n",
              "      <th></th>\n",
              "      <th>Seniority</th>\n",
              "      <th>Home</th>\n",
              "      <th>Time</th>\n",
              "      <th>Age</th>\n",
              "      <th>Marital</th>\n",
              "      <th>Records</th>\n",
              "      <th>Job</th>\n",
              "      <th>Expenses</th>\n",
              "      <th>Income</th>\n",
              "      <th>Assets</th>\n",
              "      <th>Debt</th>\n",
              "      <th>Amount</th>\n",
              "      <th>Price</th>\n",
              "      <th>Status</th>\n",
              "    </tr>\n",
              "  </thead>\n",
              "  <tbody>\n",
              "    <tr>\n",
              "      <th>0</th>\n",
              "      <td>9.0</td>\n",
              "      <td>1.0</td>\n",
              "      <td>60.0</td>\n",
              "      <td>30.0</td>\n",
              "      <td>0.0</td>\n",
              "      <td>1.0</td>\n",
              "      <td>1.0</td>\n",
              "      <td>73.0</td>\n",
              "      <td>129.0</td>\n",
              "      <td>0.0</td>\n",
              "      <td>0.0</td>\n",
              "      <td>800.0</td>\n",
              "      <td>846.0</td>\n",
              "      <td>1</td>\n",
              "    </tr>\n",
              "    <tr>\n",
              "      <th>1</th>\n",
              "      <td>17.0</td>\n",
              "      <td>1.0</td>\n",
              "      <td>60.0</td>\n",
              "      <td>58.0</td>\n",
              "      <td>1.0</td>\n",
              "      <td>1.0</td>\n",
              "      <td>0.0</td>\n",
              "      <td>48.0</td>\n",
              "      <td>131.0</td>\n",
              "      <td>0.0</td>\n",
              "      <td>0.0</td>\n",
              "      <td>1000.0</td>\n",
              "      <td>1658.0</td>\n",
              "      <td>1</td>\n",
              "    </tr>\n",
              "    <tr>\n",
              "      <th>2</th>\n",
              "      <td>10.0</td>\n",
              "      <td>0.0</td>\n",
              "      <td>36.0</td>\n",
              "      <td>46.0</td>\n",
              "      <td>0.0</td>\n",
              "      <td>2.0</td>\n",
              "      <td>1.0</td>\n",
              "      <td>90.0</td>\n",
              "      <td>200.0</td>\n",
              "      <td>3000.0</td>\n",
              "      <td>0.0</td>\n",
              "      <td>2000.0</td>\n",
              "      <td>2985.0</td>\n",
              "      <td>0</td>\n",
              "    </tr>\n",
              "    <tr>\n",
              "      <th>3</th>\n",
              "      <td>0.0</td>\n",
              "      <td>1.0</td>\n",
              "      <td>60.0</td>\n",
              "      <td>24.0</td>\n",
              "      <td>1.0</td>\n",
              "      <td>1.0</td>\n",
              "      <td>0.0</td>\n",
              "      <td>63.0</td>\n",
              "      <td>182.0</td>\n",
              "      <td>2500.0</td>\n",
              "      <td>0.0</td>\n",
              "      <td>900.0</td>\n",
              "      <td>1325.0</td>\n",
              "      <td>1</td>\n",
              "    </tr>\n",
              "    <tr>\n",
              "      <th>4</th>\n",
              "      <td>0.0</td>\n",
              "      <td>1.0</td>\n",
              "      <td>36.0</td>\n",
              "      <td>26.0</td>\n",
              "      <td>1.0</td>\n",
              "      <td>1.0</td>\n",
              "      <td>0.0</td>\n",
              "      <td>46.0</td>\n",
              "      <td>107.0</td>\n",
              "      <td>0.0</td>\n",
              "      <td>0.0</td>\n",
              "      <td>310.0</td>\n",
              "      <td>910.0</td>\n",
              "      <td>1</td>\n",
              "    </tr>\n",
              "  </tbody>\n",
              "</table>\n",
              "</div>"
            ],
            "text/plain": [
              "   Seniority  Home  Time   Age  Marital  Records  Job  Expenses  Income  \\\n",
              "0        9.0   1.0  60.0  30.0      0.0      1.0  1.0      73.0   129.0   \n",
              "1       17.0   1.0  60.0  58.0      1.0      1.0  0.0      48.0   131.0   \n",
              "2       10.0   0.0  36.0  46.0      0.0      2.0  1.0      90.0   200.0   \n",
              "3        0.0   1.0  60.0  24.0      1.0      1.0  0.0      63.0   182.0   \n",
              "4        0.0   1.0  36.0  26.0      1.0      1.0  0.0      46.0   107.0   \n",
              "\n",
              "   Assets  Debt  Amount   Price  Status  \n",
              "0     0.0   0.0   800.0   846.0       1  \n",
              "1     0.0   0.0  1000.0  1658.0       1  \n",
              "2  3000.0   0.0  2000.0  2985.0       0  \n",
              "3  2500.0   0.0   900.0  1325.0       1  \n",
              "4     0.0   0.0   310.0   910.0       1  "
            ]
          },
          "execution_count": 3,
          "metadata": {},
          "output_type": "execute_result"
        }
      ],
      "source": [
        "data = pd.read_csv(\"credit_scoring.csv\", sep = ';')\n",
        "data.head()"
      ]
    },
    {
      "cell_type": "markdown",
      "metadata": {
        "id": "_gMYKY6CszMj"
      },
      "source": [
        "Ensuite, on transforme le jeu de données en Array et on sépare la variable a prédire et les covariables en deux tableaux différents"
      ]
    },
    {
      "cell_type": "code",
      "execution_count": null,
      "metadata": {
        "id": "NPpIbsYuszMl"
      },
      "outputs": [],
      "source": [
        "data_array = data.values\n",
        "X = data_array[:, :-1]\n",
        "y = data_array[:, -1]\n"
      ]
    },
    {
      "cell_type": "markdown",
      "metadata": {
        "id": "V2U5nTQRszMn"
      },
      "source": [
        "On souhaite alors analyser les données, leur taille, la distribution des exemples positifs et négatifs...\n"
      ]
    },
    {
      "cell_type": "code",
      "execution_count": null,
      "metadata": {
        "id": "J6UegeY9szMo",
        "outputId": "5efa6906-aa35-44ed-8f5a-3616f1b97aff"
      },
      "outputs": [
        {
          "name": "stdout",
          "output_type": "stream",
          "text": [
            "Taille de l'échantillon: 4375 observartions et 13 variables\n"
          ]
        },
        {
          "data": {
            "text/html": [
              "<div>\n",
              "<style scoped>\n",
              "    .dataframe tbody tr th:only-of-type {\n",
              "        vertical-align: middle;\n",
              "    }\n",
              "\n",
              "    .dataframe tbody tr th {\n",
              "        vertical-align: top;\n",
              "    }\n",
              "\n",
              "    .dataframe thead th {\n",
              "        text-align: right;\n",
              "    }\n",
              "</style>\n",
              "<table border=\"1\" class=\"dataframe\">\n",
              "  <thead>\n",
              "    <tr style=\"text-align: right;\">\n",
              "      <th></th>\n",
              "      <th>Classe</th>\n",
              "      <th>Nombre observations</th>\n",
              "      <th>Pourcentage (%)</th>\n",
              "    </tr>\n",
              "  </thead>\n",
              "  <tbody>\n",
              "    <tr>\n",
              "      <th>0</th>\n",
              "      <td>0.0</td>\n",
              "      <td>1216</td>\n",
              "      <td>27.794286</td>\n",
              "    </tr>\n",
              "    <tr>\n",
              "      <th>1</th>\n",
              "      <td>1.0</td>\n",
              "      <td>3159</td>\n",
              "      <td>72.205714</td>\n",
              "    </tr>\n",
              "  </tbody>\n",
              "</table>\n",
              "</div>"
            ],
            "text/plain": [
              "   Classe  Nombre observations  Pourcentage (%)\n",
              "0     0.0                 1216        27.794286\n",
              "1     1.0                 3159        72.205714"
            ]
          },
          "execution_count": 5,
          "metadata": {},
          "output_type": "execute_result"
        }
      ],
      "source": [
        "\n",
        "n_obs, n_var = X.shape\n",
        "print(f\"Taille de l'échantillon: {n_obs} observartions et {n_var} variables\")\n",
        "\n",
        "unique, counts = np.unique(y, return_counts= True)\n",
        "ratio = (counts/n_obs)*100\n",
        "\n",
        "distribution_df = pd.DataFrame({\n",
        "    'Classe': unique,\n",
        "    'Nombre observations': counts,\n",
        "    'Pourcentage (%)': ratio\n",
        "})\n",
        "\n",
        "distribution_df"
      ]
    },
    {
      "cell_type": "markdown",
      "metadata": {
        "id": "z7nfKLahszMq"
      },
      "source": [
        "On remarque que les deux classes ne sont pas équilibrées. On a environ 72% des données qui sont prédites de classe 1. Cela donne également un indice sur la précision que devra atteindre notre classifieur. S'il a une accuracy inférieure à 72%, cela indiquera qu'il sera moins bon qu'un classifieur naif qui donne que toutes les observations sont de classe 1.\n",
        "\n",
        "Par ailleurs, on peut également donner une interprétation à ces classes:\n",
        "- Une observation classée 0 indique que le client ne rembourse pas le crédit.\n",
        "- Une observation classée 1 indique que le client rembouse sont crédit.\n"
      ]
    },
    {
      "cell_type": "markdown",
      "metadata": {
        "id": "8M_z1qYYszMr"
      },
      "source": [
        "Enfin, pour éviter d'avoir un résultat biaisé du classifieur, on sépare les données en deux parties :\n",
        "- Une partie servira a l'apprentissage du classifieur (50% des données)\n",
        "- L'autre servira à son évaluation (50%)"
      ]
    },
    {
      "cell_type": "code",
      "execution_count": null,
      "metadata": {
        "id": "omPd-HmgszMs",
        "outputId": "baa7c607-d6b6-4042-cf0c-ca85d658b346"
      },
      "outputs": [
        {
          "name": "stdout",
          "output_type": "stream",
          "text": [
            "Taille de X: (4375, 13)\n",
            "Taille de X_train : (2187, 13)\n",
            "Taille de X_test : (2188, 13) \n",
            "\n",
            "Taille de y : (4375,)\n",
            "Taille de y_train : (2187,)\n",
            "Taille de y_test : (2188,)\n"
          ]
        }
      ],
      "source": [
        "from sklearn.model_selection import train_test_split\n",
        "\n",
        "X_train, X_test, y_train, y_test = train_test_split(X, y, test_size = 0.5, random_state = 1)\n",
        "\n",
        "print(f\"Taille de X: {X.shape}\")\n",
        "print(f\"Taille de X_train : {X_train.shape}\")\n",
        "print(f\"Taille de X_test : {X_test.shape} \\n\")\n",
        "print(f\"Taille de y : {y.shape}\")\n",
        "print(f\"Taille de y_train : {y_train.shape}\")\n",
        "print(f\"Taille de y_test : {y_test.shape}\")"
      ]
    },
    {
      "cell_type": "markdown",
      "metadata": {
        "id": "Pfn6vGhcszMt"
      },
      "source": [
        "### 2) Apprentissage et évaluation de modèles\n",
        "\n",
        "Dans cette partie, on souhaite utiliser les algorithmes suivants :\n",
        "\n",
        "- Un arbre CART (random_state = 1)\n",
        "- KNN avec k = 5\n",
        "- MultilayerPerceptrion à deux couches de tailles 40 et 20 et random_state = 1\n",
        "\n",
        "On comparera les résultats obtenus à l'aide de ces algorithmes en utilisant une métrique personnalisée qui sera la moyenne de l'accuracy et la précision.\n",
        "\n",
        "Dans ce cas, c'est la précision qui a plus de sens que le rappel. En effet on a :\n",
        "- La précision reflète la proportion de prédictions positives correctes, c'est le critère choisi lorsque les faux positifs ont un cout élevé.\n",
        "- Le rappel mesure la proportion de vrais positifs détéctés parmis les positifs, c'est le critère choisi lorsque les faux négatifs sont importants à maitriser.\n",
        "\n",
        "Au vu du fait que l'on travaille avec des données de crédit scroing, ce qui coute le plus est d'accorder le crédit à quelqu'un qui ne le rembourse pas. Donc on choisit les deux critères à étudier sont l'accuracy et la précision."
      ]
    },
    {
      "cell_type": "code",
      "execution_count": null,
      "metadata": {
        "id": "HodeDQufszMt"
      },
      "outputs": [],
      "source": [
        "# Librairies\n",
        "from sklearn.tree import DecisionTreeClassifier\n",
        "from sklearn.neighbors import KNeighborsClassifier\n",
        "from sklearn.neural_network import MLPClassifier\n",
        "from sklearn.metrics import accuracy_score, precision_score\n",
        "\n",
        "\n",
        "def eval_classif(classif, X_train, X_test, y_train, y_test):\n",
        "\n",
        "    classif.fit(X_train, y_train)\n",
        "\n",
        "    y_pred = classif.predict(X_test)\n",
        "\n",
        "    acc = accuracy_score(y_test, y_pred)\n",
        "    prec = precision_score(y_test, y_pred)\n",
        "    metrique = (acc + prec )/2\n",
        "\n",
        "    res={\n",
        "        \"Accuracy\" : acc,\n",
        "        \"Precision\": prec,\n",
        "        \"Métrique\": metrique\n",
        "    }\n",
        "\n",
        "    return res\n",
        "\n"
      ]
    },
    {
      "cell_type": "code",
      "execution_count": null,
      "metadata": {
        "id": "KwcVHbqJszMu",
        "outputId": "038e4df3-49c2-4708-d019-b3096d0fe5a9"
      },
      "outputs": [
        {
          "name": "stdout",
          "output_type": "stream",
          "text": [
            "Résultats des algorithmes : \n"
          ]
        },
        {
          "data": {
            "text/html": [
              "<div>\n",
              "<style scoped>\n",
              "    .dataframe tbody tr th:only-of-type {\n",
              "        vertical-align: middle;\n",
              "    }\n",
              "\n",
              "    .dataframe tbody tr th {\n",
              "        vertical-align: top;\n",
              "    }\n",
              "\n",
              "    .dataframe thead th {\n",
              "        text-align: right;\n",
              "    }\n",
              "</style>\n",
              "<table border=\"1\" class=\"dataframe\">\n",
              "  <thead>\n",
              "    <tr style=\"text-align: right;\">\n",
              "      <th></th>\n",
              "      <th>Algorithme</th>\n",
              "      <th>Accuracy</th>\n",
              "      <th>Precision</th>\n",
              "      <th>Métrique</th>\n",
              "    </tr>\n",
              "  </thead>\n",
              "  <tbody>\n",
              "    <tr>\n",
              "      <th>0</th>\n",
              "      <td>CART</td>\n",
              "      <td>0.727148</td>\n",
              "      <td>0.819417</td>\n",
              "      <td>0.773283</td>\n",
              "    </tr>\n",
              "    <tr>\n",
              "      <th>1</th>\n",
              "      <td>KNN</td>\n",
              "      <td>0.724863</td>\n",
              "      <td>0.770971</td>\n",
              "      <td>0.747917</td>\n",
              "    </tr>\n",
              "    <tr>\n",
              "      <th>2</th>\n",
              "      <td>MLP</td>\n",
              "      <td>0.705667</td>\n",
              "      <td>0.819293</td>\n",
              "      <td>0.762480</td>\n",
              "    </tr>\n",
              "  </tbody>\n",
              "</table>\n",
              "</div>"
            ],
            "text/plain": [
              "  Algorithme  Accuracy  Precision  Métrique\n",
              "0       CART  0.727148   0.819417  0.773283\n",
              "1        KNN  0.724863   0.770971  0.747917\n",
              "2        MLP  0.705667   0.819293  0.762480"
            ]
          },
          "execution_count": 13,
          "metadata": {},
          "output_type": "execute_result"
        }
      ],
      "source": [
        "res = []\n",
        "# CART\n",
        "cart = DecisionTreeClassifier(random_state = 1)\n",
        "res_cart = eval_classif(cart, X_train, X_test, y_train, y_test)\n",
        "res.append({\"Algorithme\": \"CART\", **res_cart})\n",
        "\n",
        "# KNN\n",
        "knn = KNeighborsClassifier(n_neighbors = 5)\n",
        "res_KNN = eval_classif(knn, X_train, X_test, y_train, y_test)\n",
        "res.append({\"Algorithme\": \"KNN\", **res_KNN})\n",
        "\n",
        "\n",
        "# MLP\n",
        "mlp = MLPClassifier(hidden_layer_sizes=(40, 20), random_state=1)\n",
        "res_mlp = eval_classif(mlp, X_train, X_test, y_train, y_test)\n",
        "res.append({\"Algorithme\": \"MLP\", **res_mlp})\n",
        "\n",
        "res = pd.DataFrame(res)\n",
        "print(\"Résultats des algorithmes : \")\n",
        "res\n"
      ]
    },
    {
      "cell_type": "markdown",
      "metadata": {
        "id": "GJ8QMNvbszMu"
      },
      "source": [
        "On remarque alors que l'algorithme **CART est le plus adapté** des 3 pour notre classification à ce stade. Il affiche une bonne balance entre précision et accuracy, le rendant robuste face au déséquilibre des classes.\n",
        "\n",
        "KNN reste une bonne alternative mais est légèrement moins bon en terme de précision. MLP est lui bien moins performant en terme d'accuracy, cette dernière étant de 71% cela peut indiquer des difficultés à généraliser sur ce jeu de donnée au vu de la distribution des données."
      ]
    },
    {
      "cell_type": "markdown",
      "metadata": {
        "id": "V4SQ74xuszMv"
      },
      "source": [
        "### 3) Normalisation des variables continues\n",
        "\n",
        "Pour que toutes les variables caractéristiques aient le meme poids dans la phase d'apprentissage, on normalise les données, cela permet à certains algorithmes de mieux fonctionner.\n"
      ]
    },
    {
      "cell_type": "code",
      "execution_count": null,
      "metadata": {
        "id": "w1f_Lre4szMv"
      },
      "outputs": [],
      "source": [
        "from sklearn.preprocessing import StandardScaler\n",
        "\n",
        "scaler = StandardScaler()\n",
        "\n",
        "X_train_scaled = scaler.fit_transform(X_train)\n",
        "X_test_scaled = scaler.transform(X_test)\n"
      ]
    },
    {
      "cell_type": "code",
      "execution_count": null,
      "metadata": {
        "id": "A-yXl1poszMv",
        "outputId": "e0226c63-b728-4925-dee2-28881050cc4f"
      },
      "outputs": [
        {
          "name": "stdout",
          "output_type": "stream",
          "text": [
            "Résultats des algorithmes sur les données normalisées : \n"
          ]
        },
        {
          "data": {
            "text/html": [
              "<div>\n",
              "<style scoped>\n",
              "    .dataframe tbody tr th:only-of-type {\n",
              "        vertical-align: middle;\n",
              "    }\n",
              "\n",
              "    .dataframe tbody tr th {\n",
              "        vertical-align: top;\n",
              "    }\n",
              "\n",
              "    .dataframe thead th {\n",
              "        text-align: right;\n",
              "    }\n",
              "</style>\n",
              "<table border=\"1\" class=\"dataframe\">\n",
              "  <thead>\n",
              "    <tr style=\"text-align: right;\">\n",
              "      <th></th>\n",
              "      <th>Algorithme</th>\n",
              "      <th>Accuracy</th>\n",
              "      <th>Precision</th>\n",
              "      <th>Métrique</th>\n",
              "    </tr>\n",
              "  </thead>\n",
              "  <tbody>\n",
              "    <tr>\n",
              "      <th>0</th>\n",
              "      <td>CART</td>\n",
              "      <td>0.727148</td>\n",
              "      <td>0.818182</td>\n",
              "      <td>0.772665</td>\n",
              "    </tr>\n",
              "    <tr>\n",
              "      <th>1</th>\n",
              "      <td>KNN</td>\n",
              "      <td>0.752742</td>\n",
              "      <td>0.810602</td>\n",
              "      <td>0.781672</td>\n",
              "    </tr>\n",
              "    <tr>\n",
              "      <th>2</th>\n",
              "      <td>MLP</td>\n",
              "      <td>0.776508</td>\n",
              "      <td>0.838172</td>\n",
              "      <td>0.807340</td>\n",
              "    </tr>\n",
              "  </tbody>\n",
              "</table>\n",
              "</div>"
            ],
            "text/plain": [
              "  Algorithme  Accuracy  Precision  Métrique\n",
              "0       CART  0.727148   0.818182  0.772665\n",
              "1        KNN  0.752742   0.810602  0.781672\n",
              "2        MLP  0.776508   0.838172  0.807340"
            ]
          },
          "execution_count": 15,
          "metadata": {},
          "output_type": "execute_result"
        }
      ],
      "source": [
        "res_scaled = []\n",
        "# CART\n",
        "cart_scaled = DecisionTreeClassifier(random_state = 1)\n",
        "res_cart_scaled = eval_classif(cart_scaled, X_train_scaled, X_test_scaled, y_train, y_test)\n",
        "res_scaled.append({\"Algorithme\": \"CART\", **res_cart_scaled})\n",
        "\n",
        "# KNN\n",
        "knn_scaled = KNeighborsClassifier(n_neighbors = 5)\n",
        "res_KNN_scaled = eval_classif(knn_scaled, X_train_scaled, X_test_scaled, y_train, y_test)\n",
        "res_scaled.append({\"Algorithme\": \"KNN\", **res_KNN_scaled})\n",
        "\n",
        "\n",
        "# MLP\n",
        "mlp_scaled = MLPClassifier(hidden_layer_sizes=(40, 20), random_state=1)\n",
        "res_mlp_scaled = eval_classif(mlp_scaled, X_train_scaled, X_test_scaled, y_train, y_test)\n",
        "res_scaled.append({\"Algorithme\": \"MLP\", **res_mlp_scaled})\n",
        "\n",
        "res_scaled = pd.DataFrame(res_scaled)\n",
        "print(\"Résultats des algorithmes sur les données normalisées : \")\n",
        "res_scaled"
      ]
    },
    {
      "cell_type": "code",
      "execution_count": null,
      "metadata": {
        "id": "ZcE_suFaszMw",
        "outputId": "0b25a59e-5a54-4954-e41b-da057fb28b92"
      },
      "outputs": [
        {
          "name": "stdout",
          "output_type": "stream",
          "text": [
            "Résultats des algorithmes sur les données \"brutes\" : \n",
            "  Algorithme  Accuracy  Precision  Métrique\n",
            "0       CART  0.727148   0.819417  0.773283\n",
            "1        KNN  0.724863   0.770971  0.747917\n",
            "2        MLP  0.705667   0.819293  0.762480\n",
            "\n",
            "\n",
            " Résultats des algorithmes sur les données normalisées : \n",
            "  Algorithme  Accuracy  Precision  Métrique\n",
            "0       CART  0.727148   0.818182  0.772665\n",
            "1        KNN  0.752742   0.810602  0.781672\n",
            "2        MLP  0.776508   0.838172  0.807340\n"
          ]
        }
      ],
      "source": [
        "print(\"Résultats des algorithmes sur les données \\\"brutes\\\" : \")\n",
        "print(res)\n",
        "\n",
        "print(\"\\n\\n Résultats des algorithmes sur les données normalisées : \")\n",
        "print(res_scaled)"
      ]
    },
    {
      "cell_type": "markdown",
      "metadata": {
        "id": "xZ_nXPKfszMx"
      },
      "source": [
        "Après normalisation, **MLP devient le meilleur algorithme** avec une moyenne des métriques de 0.807, suivi de près par KNN (0.782).\n",
        "CART reste un choix stable et fiable, mais il ne profite pas de la normalisation, et son avantage disparaît face aux autres algorithmes.\n",
        "\n",
        "Cette amélioration des performances pour MLP et KNN s'explique par leur sensibilité à l’échelle des variables, tandis que CART, basé sur des seuils de décision, n'est pas affecté par cette transformation."
      ]
    },
    {
      "cell_type": "markdown",
      "metadata": {
        "id": "eQ--kpVzszMx"
      },
      "source": [
        "### 4) Création de nouvelles variables caractéristiques par combinaison linéaire des variables initiales\n",
        "\n",
        "Parfois, il peut être utile pour certains classifieurs de faire une réduction de dimmension sur les données afin d'augmenter le pouvoir discriminant du classifieur.\n",
        "\n",
        "Pour cela, on peut par exemple appliquer une ACP sur nos données.\n"
      ]
    },
    {
      "cell_type": "code",
      "execution_count": null,
      "metadata": {
        "id": "ysun89IkszMx"
      },
      "outputs": [],
      "source": [
        "from sklearn.decomposition import PCA\n",
        "\n",
        "acp = PCA(n_components = 3)\n",
        "\n",
        "X_train_acp = acp.fit_transform(X_train_scaled)\n",
        "X_test_acp = acp.transform(X_test_scaled)\n",
        "\n",
        "\n",
        "X_train_2 = np.hstack((X_train_scaled, X_train_acp))\n",
        "X_test_2 = np.hstack((X_test_scaled, X_test_acp))\n"
      ]
    },
    {
      "cell_type": "code",
      "execution_count": null,
      "metadata": {
        "id": "MYS-wGVVszMx",
        "outputId": "bcd3e1bc-56ff-44b9-a24f-fa8c34805007"
      },
      "outputs": [
        {
          "name": "stdout",
          "output_type": "stream",
          "text": [
            "Résultats des algorithmes apres ACP : \n"
          ]
        },
        {
          "data": {
            "text/html": [
              "<div>\n",
              "<style scoped>\n",
              "    .dataframe tbody tr th:only-of-type {\n",
              "        vertical-align: middle;\n",
              "    }\n",
              "\n",
              "    .dataframe tbody tr th {\n",
              "        vertical-align: top;\n",
              "    }\n",
              "\n",
              "    .dataframe thead th {\n",
              "        text-align: right;\n",
              "    }\n",
              "</style>\n",
              "<table border=\"1\" class=\"dataframe\">\n",
              "  <thead>\n",
              "    <tr style=\"text-align: right;\">\n",
              "      <th></th>\n",
              "      <th>Algorithme</th>\n",
              "      <th>Accuracy</th>\n",
              "      <th>Precision</th>\n",
              "      <th>Métrique</th>\n",
              "    </tr>\n",
              "  </thead>\n",
              "  <tbody>\n",
              "    <tr>\n",
              "      <th>0</th>\n",
              "      <td>CART</td>\n",
              "      <td>0.736289</td>\n",
              "      <td>0.832783</td>\n",
              "      <td>0.784536</td>\n",
              "    </tr>\n",
              "    <tr>\n",
              "      <th>1</th>\n",
              "      <td>KNN</td>\n",
              "      <td>0.756399</td>\n",
              "      <td>0.810396</td>\n",
              "      <td>0.783397</td>\n",
              "    </tr>\n",
              "    <tr>\n",
              "      <th>2</th>\n",
              "      <td>MLP</td>\n",
              "      <td>0.770110</td>\n",
              "      <td>0.826981</td>\n",
              "      <td>0.798545</td>\n",
              "    </tr>\n",
              "  </tbody>\n",
              "</table>\n",
              "</div>"
            ],
            "text/plain": [
              "  Algorithme  Accuracy  Precision  Métrique\n",
              "0       CART  0.736289   0.832783  0.784536\n",
              "1        KNN  0.756399   0.810396  0.783397\n",
              "2        MLP  0.770110   0.826981  0.798545"
            ]
          },
          "execution_count": 20,
          "metadata": {},
          "output_type": "execute_result"
        }
      ],
      "source": [
        "res_acp = []\n",
        "# CART\n",
        "cart_acp  = DecisionTreeClassifier(random_state = 1)\n",
        "res_cart_acp  = eval_classif(cart_acp , X_train_2, X_test_2, y_train, y_test)\n",
        "res_acp.append({\"Algorithme\": \"CART\", **res_cart_acp })\n",
        "\n",
        "# KNN\n",
        "knn_acp = KNeighborsClassifier(n_neighbors = 5)\n",
        "res_KNN_acp = eval_classif(knn_acp, X_train_2, X_test_2, y_train, y_test)\n",
        "res_acp.append({\"Algorithme\": \"KNN\", **res_KNN_acp})\n",
        "\n",
        "\n",
        "# MLP\n",
        "mlp_acp = MLPClassifier(hidden_layer_sizes=(40, 20), random_state=1)\n",
        "res_mlp_acp = eval_classif(mlp_acp, X_train_2, X_test_2, y_train, y_test)\n",
        "res_acp.append({\"Algorithme\": \"MLP\", **res_mlp_acp})\n",
        "\n",
        "res_acp = pd.DataFrame(res_acp)\n",
        "print(\"Résultats des algorithmes apres ACP : \")\n",
        "res_acp"
      ]
    },
    {
      "cell_type": "code",
      "execution_count": null,
      "metadata": {
        "id": "_YLQoaq6szMy",
        "outputId": "51b75e70-0e09-4b59-95c1-0abdcab56b73"
      },
      "outputs": [
        {
          "name": "stdout",
          "output_type": "stream",
          "text": [
            "Résultats des algorithmes sur les données \"brutes\" : \n",
            "  Algorithme  Accuracy  Precision  Métrique\n",
            "0       CART  0.727148   0.819417  0.773283\n",
            "1        KNN  0.724863   0.770971  0.747917\n",
            "2        MLP  0.705667   0.819293  0.762480\n",
            "\n",
            "\n",
            " Résultats des algorithmes sur les données normalisées : \n",
            "  Algorithme  Accuracy  Precision  Métrique\n",
            "0       CART  0.727148   0.818182  0.772665\n",
            "1        KNN  0.752742   0.810602  0.781672\n",
            "2        MLP  0.776508   0.838172  0.807340\n",
            "\n",
            "\n",
            " Résultats des algorithmes après ACP : \n",
            "  Algorithme  Accuracy  Precision  Métrique\n",
            "0       CART  0.736289   0.832783  0.784536\n",
            "1        KNN  0.756399   0.810396  0.783397\n",
            "2        MLP  0.770110   0.826981  0.798545\n"
          ]
        }
      ],
      "source": [
        "print(\"Résultats des algorithmes sur les données \\\"brutes\\\" : \")\n",
        "print(res)\n",
        "\n",
        "print(\"\\n\\n Résultats des algorithmes sur les données normalisées : \")\n",
        "print(res_scaled)\n",
        "\n",
        "print(\"\\n\\n Résultats des algorithmes après ACP : \")\n",
        "print(res_acp)"
      ]
    },
    {
      "cell_type": "markdown",
      "metadata": {
        "id": "C0e_IzIiszMy"
      },
      "source": [
        "On remarque que :\n",
        "- CART devient légèrement plus performant après ACP, donc l’intégration des nouvelles dimensions peut être envisagée si l’objectif est d’améliorer la précision.\n",
        "- KNN bénéficie plus de la normalisation que de l’ACP, donc l’ACP n’est pas forcément nécessaire.\n",
        "- MLP fonctionne mieux avec les données normalisées mais sans ACP, ce qui indique que réduire la dimensionnalité n’aide pas ce modèle.\n",
        "\n",
        "Sur la base des 3 tests fait, on remarque que c'est le **MLP** qui semble etre le meilleur classifieur mais **sans ACP** et **avec normalisation**."
      ]
    },
    {
      "cell_type": "markdown",
      "metadata": {
        "id": "-hb-NbgGszMz"
      },
      "source": [
        "### 5) Séléction de variables\n",
        "\n",
        "La présence de certaines variables dites bruitées peut avoir un impact négatif sur les résultats d'apprentissage, c'est pourquoi il est important de faire de la séléction de variables.\n",
        "Cela consiste en choisir le sous ensemble de variables les plus pertinentes à partir de toutes celles disponibles.\n",
        "\n",
        "Pour determiner quelles sont les meilleures variables pour prédire si la personne va ou non rembourser le crédit, on utilise la méthode Random Forest."
      ]
    },
    {
      "cell_type": "code",
      "execution_count": null,
      "metadata": {
        "id": "epmksuUqszMz",
        "outputId": "83aea4f4-659f-4b89-e2a7-602d0642a689"
      },
      "outputs": [
        {
          "name": "stdout",
          "output_type": "stream",
          "text": [
            "Variables triées par importance : ['Income' 'Seniority' 'Price' 'Amount' 'Age' 'Assets' 'Expenses' 'Records'\n",
            " 'Time' 'Job' 'Debt' 'Home' 'Marital']\n"
          ]
        },
        {
          "data": {
            "image/png": "[encoded data removed]",
            "text/plain": [
              "<Figure size 640x480 with 1 Axes>"
            ]
          },
          "metadata": {},
          "output_type": "display_data"
        }
      ],
      "source": [
        "from sklearn.ensemble import RandomForestClassifier\n",
        "\n",
        "clf = RandomForestClassifier(n_estimators=100, random_state=1)\n",
        "clf.fit(X_train_scaled, y_train) # On choisit les données normalisées au vu du choix du modèle\n",
        "\n",
        "# Importance des variables\n",
        "importances = clf.feature_importances_\n",
        "std = np.std([tree.feature_importances_ for tree in clf.estimators_], axis=0)\n",
        "sorted_idx = np.argsort(importances)[::-1]\n",
        "\n",
        "features = data.columns.values\n",
        "print(\"Variables triées par importance :\", features[sorted_idx])\n",
        "\n",
        "# Histogramme des importances\n",
        "padding = np.arange(X_train_scaled.size/len(X_train_scaled))+0.5\n",
        "plt.figure()\n",
        "plt.barh(padding, importances[sorted_idx], xerr=std[sorted_idx], align='center')\n",
        "plt.yticks(padding, features[sorted_idx])\n",
        "plt.xlabel(\"Importance relative\")\n",
        "plt.title(\"Importance des variables - Random Forest\")\n",
        "plt.grid(alpha = 0.3)\n",
        "plt.show()"
      ]
    },
    {
      "cell_type": "markdown",
      "metadata": {
        "id": "QQeGGLpOszMz"
      },
      "source": [
        "On remarque alors que les variables ayant le plus d'impact sur la réponse sont :\n",
        "1. Income : les personnes ayant un revenu élevé ont une probabilité plus grande de rembourser le crédit.\n",
        "2. Seniority : plus une personne est en poste depuis longtemps plus elle est percue comme fiable pour un remboursement.\n",
        "3. Price : la somme emprunté joue également un role important\n",
        "\n",
        "L'amount, l'age et les assets sont également importantes cependant marital, home et debts ne le sont pas tant que ca."
      ]
    },
    {
      "cell_type": "markdown",
      "metadata": {
        "id": "Ho9GKVavszM0"
      },
      "source": [
        "On souhaite alors determiner le nombre de variables à garder."
      ]
    },
    {
      "cell_type": "code",
      "execution_count": null,
      "metadata": {
        "id": "2NaTsYpRszM1",
        "outputId": "dbd25499-a2d5-4be2-a052-6bae2b62f8c9"
      },
      "outputs": [
        {
          "name": "stdout",
          "output_type": "stream",
          "text": [
            "Nombre optimal de variables à garder : 8\n",
            "Score maximal : 0.817\n"
          ]
        },
        {
          "data": {
            "image/png": "[encoded data removed]",
            "text/plain": [
              "<Figure size 640x480 with 1 Axes>"
            ]
          },
          "metadata": {},
          "output_type": "display_data"
        }
      ],
      "source": [
        "mlp = MLPClassifier(hidden_layer_sizes=(40, 20), random_state=1)\n",
        "scores = np.zeros(X_train_scaled.shape[1] + 1)\n",
        "\n",
        "\n",
        "for f in np.arange(0, X_train_scaled.shape[1] + 1):\n",
        "    # Sélection des f meilleures variables\n",
        "    X1_f = X_train_scaled[:, sorted_idx[:f + 1]]\n",
        "    X2_f = X_test_scaled[:, sorted_idx[:f + 1]]\n",
        "\n",
        "    # Entraînement et prédiction\n",
        "    mlp.fit(X1_f, y_train)\n",
        "    y_pred = mlp.predict(X2_f)\n",
        "\n",
        "    # Calcul des métriques\n",
        "    acc = accuracy_score(y_test, y_pred)\n",
        "    prec = precision_score(y_test, y_pred)\n",
        "    metric_average = (acc + prec) / 2\n",
        "\n",
        "    # Stockage du score\n",
        "    scores[f] = np.round(metric_average, 3)\n",
        "\n",
        "optimal_variables = np.argmax(scores) # Indice du score maximum\n",
        "print(f\"Nombre optimal de variables à garder : {optimal_variables+1}\")\n",
        "print(f\"Score maximal : {scores[optimal_variables]:.3f}\")\n",
        "\n",
        "plt.figure()\n",
        "plt.plot(scores, marker = 'o')\n",
        "plt.xlabel(\"Nombre de Variables\")\n",
        "plt.ylabel(\"Moyenne (Accuracy / Précision)\")\n",
        "plt.title(\"Évolution de la performance en fonction du nombre de variables\")\n",
        "plt.grid(alpha=0.3)\n",
        "plt.show()\n"
      ]
    },
    {
      "cell_type": "markdown",
      "metadata": {
        "id": "sUmJUY7FszM2"
      },
      "source": [
        "On remarque que le nombre de variables à garder pour optimiser les performances est **8**.\n",
        "\n",
        "On souhaite alors utiliser un GridSearchCV afin de donner les meilleurs paramètres possibles à notre algorithme. Pour cela, on doit choisir les meilleurs paramètres pour optimiser la métrique que l'on a mit en oeuvre depuis le début et on donnera le nombre de variables à garder."
      ]
    },
    {
      "cell_type": "code",
      "execution_count": null,
      "metadata": {
        "id": "4aXQTvlIszM2",
        "outputId": "481a3fa7-9db1-4cb4-96ec-a845521093c0"
      },
      "outputs": [
        {
          "name": "stdout",
          "output_type": "stream",
          "text": [
            "Meilleurs paramètres trouvés : {'activation': 'logistic', 'hidden_layer_sizes': (40, 10, 10)}\n",
            "Meilleure performance moyenne (accuracy + précision) : 0.8\n"
          ]
        }
      ],
      "source": [
        "from sklearn.model_selection import GridSearchCV\n",
        "from sklearn.metrics import make_scorer, accuracy_score, precision_score\n",
        "\n",
        "# Nouvelles données\n",
        "X_train_new = X_train_scaled[:, sorted_idx[:8]]\n",
        "X_test_new = X_test_scaled[:, sorted_idx[:8]]\n",
        "\n",
        "\n",
        "# Paramètres à tester\n",
        "param_grid = {\n",
        "    \"hidden_layer_sizes\": [(40, 20), (40, 10), (50, 30), (60, 30), (10, ), (40, 10, 10)],\n",
        "    \"activation\": [\"relu\", \"tanh\", \"logistic\"]\n",
        "}\n",
        "\n",
        "# Definition de la metrique\n",
        "def custom_metric(y_true, y_pred):\n",
        "    acc = accuracy_score(y_true, y_pred)\n",
        "    prec = precision_score(y_true, y_pred)\n",
        "    return (acc + prec) / 2\n",
        "custom_scorer = make_scorer(custom_metric, greater_is_better=True)\n",
        "\n",
        "\n",
        "# Mise en place du GridSearchCV\n",
        "\n",
        "mlp = MLPClassifier(random_state=1, max_iter=500)\n",
        "\n",
        "grid_search = GridSearchCV(\n",
        "    estimator=mlp,\n",
        "    param_grid=param_grid,\n",
        "    scoring=custom_scorer,\n",
        "    cv=5,\n",
        "    n_jobs=-1\n",
        ")\n",
        "\n",
        "grid_search.fit(X_train_new, y_train)\n",
        "\n",
        "# Meilleurs paramètres\n",
        "best_params = grid_search.best_params_\n",
        "print(\"Meilleurs paramètres trouvés :\", best_params)\n",
        "\n",
        "# Meilleure moyenne (accuracy + précision) / 2\n",
        "best_score = grid_search.best_score_\n",
        "print(\"Meilleure performance moyenne (accuracy + précision) :\", round(best_score, 3))\n"
      ]
    },
    {
      "cell_type": "code",
      "execution_count": null,
      "metadata": {
        "id": "cfITciERszM3",
        "outputId": "0ea713f7-d480-4d00-b125-066816e00d09"
      },
      "outputs": [
        {
          "name": "stdout",
          "output_type": "stream",
          "text": [
            "Performance finale sur l'ensemble de test :\n",
            "Accuracy : 0.781\n",
            "Précision : 0.847\n",
            "Moyenne (accuracy + précision) : 0.814\n"
          ]
        }
      ],
      "source": [
        "# Entraîner le modèle final avec les meilleurs paramètres\n",
        "best_mlp = grid_search.best_estimator_\n",
        "best_mlp.fit(X_train_new, y_train)\n",
        "\n",
        "# Prédiction sur l'ensemble de test\n",
        "y_test_pred = best_mlp.predict(X_test_new)\n",
        "\n",
        "# Calcul des métriques finales\n",
        "acc_test = accuracy_score(y_test, y_test_pred)\n",
        "prec_test = precision_score(y_test, y_test_pred)\n",
        "final_metric = (acc_test + prec_test) / 2\n",
        "\n",
        "print(f\"Performance finale sur l'ensemble de test :\\n\"\n",
        "      f\"Accuracy : {round(acc_test, 3)}\\n\"\n",
        "      f\"Précision : {round(prec_test, 3)}\\n\"\n",
        "      f\"Moyenne (accuracy + précision) : {round(final_metric, 3)}\")\n"
      ]
    },
    {
      "cell_type": "markdown",
      "metadata": {
        "id": "1-xISnCpszM3"
      },
      "source": [
        "En utilisant GridSearchCV, nous avons optimisé les hyperparamètres du MLPClassifier sur les 8 variables sélectionnées. Les meilleurs paramètres trouvés sont : {'activation': 'logistic', 'hidden_layer_sizes': (40, 10, 10)}.\n",
        "\n",
        "Avec ces réglages, la meilleure moyenne (accuracy + précision) sur les données de validation croisée est de 0.8. Sur les données de test, le modèle atteint une accuracy de 0.781, une précision de 0.847, et une moyenne (accuracy + précision) de 0.814.\n",
        "\n",
        "Cela confirme la robustesse de notre approche et le bien-fondé de la sélection des variables."
      ]
    },
    {
      "cell_type": "markdown",
      "metadata": {
        "id": "sNXMNQnmszM3"
      },
      "source": [
        "### 6) Création d'un pipeline\n",
        "\n",
        "On souhaite automatiser l'enchainement des traitements effectués : construction du classifieur, normalisation, acp, choix du nombre de paramètres etc. Pour cela, on créé une pipeline"
      ]
    },
    {
      "cell_type": "markdown",
      "metadata": {
        "id": "qYEfyHQmszM3"
      },
      "source": [
        "- Création et sauvegarde du pipeline :"
      ]
    },
    {
      "cell_type": "code",
      "execution_count": null,
      "metadata": {
        "id": "vczLtAp2szM4",
        "outputId": "02ce6f53-62f0-4372-aabc-deb548cdf72b"
      },
      "outputs": [
        {
          "name": "stdout",
          "output_type": "stream",
          "text": [
            "Pipeline sauvegardé avec succès dans 'mlp_pipeline.pkl'\n"
          ]
        }
      ],
      "source": [
        "from sklearn.feature_selection import SelectFromModel\n",
        "from sklearn.pipeline import Pipeline\n",
        "from sklearn.preprocessing import StandardScaler\n",
        "from sklearn.ensemble import RandomForestClassifier\n",
        "from sklearn.neural_network import MLPClassifier\n",
        "import pickle\n",
        "\n",
        "# Meilleurs hyperparamètres trouvés pour le MLPClassifier\n",
        "best_params = {'activation': 'logistic', 'hidden_layer_sizes': (40, 10, 10)}\n",
        "\n",
        "# Création du pipeline\n",
        "pipeline = Pipeline([\n",
        "    ('scaler', StandardScaler()),  # Normalisation\n",
        "    ('selector', SelectFromModel(RandomForestClassifier(n_estimators=100, random_state=1))),  # Sélection de variables\n",
        "    ('classifier', MLPClassifier(random_state=1, max_iter=500, **best_params))  # Modèle optimisé\n",
        "])\n",
        "\n",
        "# Entraînement du pipeline sur les données complètes\n",
        "pipeline.fit(X_train, y_train)\n",
        "\n",
        "# Sauvegarde du pipeline dans un fichier pickle\n",
        "with open('mlp_pipeline.pkl', 'wb') as f:\n",
        "    pickle.dump(pipeline, f)\n",
        "\n",
        "print(\"Pipeline sauvegardé avec succès dans 'mlp_pipeline.pkl'\")\n"
      ]
    },
    {
      "cell_type": "markdown",
      "metadata": {
        "id": "ioP0nhOjszM4"
      },
      "source": [
        "- Chargement et utilisation du pipeline"
      ]
    },
    {
      "cell_type": "code",
      "execution_count": null,
      "metadata": {
        "id": "EBmy3npqszNB",
        "outputId": "ab6d19b4-fa1d-4206-db5b-749a05ff6d26"
      },
      "outputs": [
        {
          "name": "stdout",
          "output_type": "stream",
          "text": [
            "Performance finale du pipeline :\n",
            "Accuracy : 0.762\n",
            "Précision : 0.797\n",
            "Moyenne (accuracy + précision) : 0.78\n"
          ]
        }
      ],
      "source": [
        "# Chargement du pipeline\n",
        "with open('mlp_pipeline.pkl', 'rb') as f:\n",
        "    loaded_pipeline = pickle.load(f)\n",
        "\n",
        "# Scoring sur les données de test\n",
        "y_test_pred = loaded_pipeline.predict(X_test)\n",
        "\n",
        "# Évaluation des performances\n",
        "\n",
        "acc_test = accuracy_score(y_test, y_test_pred)\n",
        "prec_test = precision_score(y_test, y_test_pred)\n",
        "final_metric = (acc_test + prec_test) / 2\n",
        "\n",
        "\n",
        "print(f\"Performance finale du pipeline :\\n\"\n",
        "      f\"Accuracy : {round(acc_test, 3)}\\n\"\n",
        "      f\"Précision : {round(prec_test, 3)}\\n\"\n",
        "      f\"Moyenne (accuracy + précision) : {round(final_metric, 3)}\")\n"
      ]
    },
    {
      "cell_type": "code",
      "execution_count": null,
      "metadata": {
        "id": "X-E2cJ27szNC",
        "outputId": "13b775ce-3134-4b33-c3d8-f65d1fbdd839"
      },
      "outputs": [
        {
          "name": "stdout",
          "output_type": "stream",
          "text": [
            "Paramètres du StandardScaler : StandardScaler()\n",
            "Paramètres du SelectFromModel : SelectFromModel(estimator=RandomForestClassifier(random_state=1))\n",
            "Paramètres du MLPClassifier : MLPClassifier(activation='logistic', hidden_layer_sizes=(40, 10, 10),\n",
            "              max_iter=500, random_state=1)\n"
          ]
        }
      ],
      "source": [
        "# Paramètres du scaler (StandardScaler)\n",
        "scaler_params = loaded_pipeline.get_params()['scaler']\n",
        "\n",
        "# Paramètres du sélecteur (SelectFromModel)\n",
        "selector_params = loaded_pipeline.get_params()['selector']\n",
        "\n",
        "# Paramètres du classifieur final (MLPClassifier)\n",
        "classifier_params = loaded_pipeline.get_params()['classifier']\n",
        "\n",
        "print(\"Paramètres du StandardScaler :\", scaler_params)\n",
        "print(\"Paramètres du SelectFromModel :\", selector_params)\n",
        "print(\"Paramètres du MLPClassifier :\", classifier_params)"
      ]
    },
    {
      "cell_type": "markdown",
      "metadata": {
        "id": "v78q5DE-szNC"
      },
      "source": [
        "Le pipeline automatisé a été construit en intégrant les étapes essentielles de normalisation, sélection des 8 meilleures variables (via Random Forest) et classification optimisée (via un MLPClassifier avec des hyperparamètres tunés).\n",
        "\n",
        "Apres normalisation des données et séléction automatique des variables importantes, les meilleurs paramètres pour le MLP incluent une fonction d’activation logistique et une architecture de couches cachées de 40, 10, et 10 neurones respectivement.\n",
        "\n",
        "La performance finale sur les données de test atteint une accuracy de 0.762, une précision de 0.797, et une moyenne (accuracy + précision) de 0.78. Ces résultats confirment la robustesse et la pertinence de notre approche. Grâce à la sauvegarde sous forme de fichier pickle, ce pipeline est prêt à être déployé en production pour des phases de scoring sur de nouvelles données."
      ]
    },
    {
      "cell_type": "markdown",
      "metadata": {
        "id": "Qa09U8RpszND"
      },
      "source": [
        "### 7) Comparaison de plusieurs algorithmes d'apprentissage\n",
        "\n",
        "A présent, on veut tester les algorithmes suivants :\n",
        "- NaiveBayesSimple\n",
        "- Un arbre CART\n",
        "- Un arbre ID3\n",
        "- Un Decision Stump\n",
        "- MultilayerPerceptron à deux couches de tailles respectives 20 et 10 par exemple\n",
        "- k-plus-proches-voisins avec k=5 par exemple\n",
        "- Bagging avec 200 classifieurs par exemple\n",
        "- AdaBoost avec 200 classifieurs par exemple\n",
        "- Random Forest avec 200 classifieurs par exemple\n",
        "- Un XGboost avec 200 classifieurs par exemple\n",
        "\n",
        "On s'appuiera sur :\n",
        "- L'AUC en validation croisée (10-fold)\n",
        "- L'accuracy et la précision\n",
        "- Le temps d'execution pour chaque algorithme"
      ]
    },
    {
      "cell_type": "markdown",
      "metadata": {
        "id": "zd2eSVcCszNF"
      },
      "source": [
        "Dans un premier temps, on créé une liste des algorithmes à comparer"
      ]
    },
    {
      "cell_type": "code",
      "execution_count": null,
      "metadata": {
        "id": "s_CUzzDwszNG"
      },
      "outputs": [],
      "source": [
        "from sklearn.naive_bayes import GaussianNB\n",
        "from sklearn.tree import DecisionTreeClassifier\n",
        "from sklearn.neighbors import KNeighborsClassifier\n",
        "from sklearn.ensemble import BaggingClassifier, AdaBoostClassifier, RandomForestClassifier\n",
        "from xgboost import XGBClassifier\n",
        "from sklearn.pipeline import Pipeline\n",
        "from sklearn.preprocessing import StandardScaler\n",
        "import time\n",
        "\n",
        "# Définition des classifieurs à comparer\n",
        "clfs = {\n",
        "    'Naive Bayes': GaussianNB(),\n",
        "    'CART': DecisionTreeClassifier(random_state=1),\n",
        "    'ID3': DecisionTreeClassifier(criterion='entropy', random_state=1),\n",
        "    'Decision Stump': DecisionTreeClassifier(max_depth=1, random_state=1),\n",
        "    'MLP': MLPClassifier(hidden_layer_sizes=(20, 10), random_state=1, max_iter=500),\n",
        "    'KNN': KNeighborsClassifier(n_neighbors=5),\n",
        "    'Bagging': BaggingClassifier(n_estimators=200, random_state=1),\n",
        "    'AdaBoost': AdaBoostClassifier(n_estimators=200, random_state=1),\n",
        "    'Random Forest': RandomForestClassifier(n_estimators=200, random_state=1),\n",
        "    'XGBoost': XGBClassifier(n_estimators=200, random_state=1, use_label_encoder=False, eval_metric='logloss')\n",
        "}\n"
      ]
    },
    {
      "cell_type": "markdown",
      "metadata": {
        "id": "DZAO71JMszNH"
      },
      "source": [
        "Ensuite on créé la fonction qui pour chaque modèle :\n",
        "- Execute l'algorithme avec une validation croisée 10-fold\n",
        "- Calcule l'accuracy, la précision et l'auc\n",
        "- Mesure le temps d'execution\n",
        "- Affiche et stocke les résultats dans un dataframe"
      ]
    },
    {
      "cell_type": "code",
      "execution_count": null,
      "metadata": {
        "id": "B61lohi_szNH"
      },
      "outputs": [],
      "source": [
        "from sklearn.model_selection import cross_val_score, KFold\n",
        "\n",
        "\n",
        "# Définition du KFold cross-validation\n",
        "kf = KFold(n_splits=10, shuffle=True, random_state=0)\n",
        "\n",
        "# Fonction pour exécuter les classifieurs\n",
        "def run_classifiers(clfs, X, Y, normalize=False):\n",
        "    results = []\n",
        "\n",
        "    for name, clf in clfs.items():\n",
        "        print(f\"Évaluation du modèle : {name}\")\n",
        "\n",
        "        # Mesure du temps d'exécution\n",
        "        start_time = time.time()\n",
        "\n",
        "        # Normalisation des données si demandé\n",
        "        if normalize:\n",
        "            pipeline = Pipeline([('scaler', StandardScaler()), ('classifier', clf)])\n",
        "        else:\n",
        "            pipeline = clf\n",
        "\n",
        "        # Validation croisée pour Accuracy\n",
        "        cv_acc = cross_val_score(pipeline, X, Y, cv=kf, scoring='accuracy')\n",
        "        acc_mean, acc_std = np.mean(cv_acc), np.std(cv_acc)\n",
        "\n",
        "        # Validation croisée pour Précision\n",
        "        cv_prec = cross_val_score(pipeline, X, Y, cv=kf, scoring='precision')\n",
        "        prec_mean, prec_std = np.mean(cv_prec), np.std(cv_prec)\n",
        "\n",
        "        # Validation croisée pour AUC\n",
        "        cv_auc = cross_val_score(pipeline, X, Y, cv=kf, scoring='roc_auc')\n",
        "        auc_mean, auc_std = np.mean(cv_auc), np.std(cv_auc)\n",
        "\n",
        "        # Temps d'exécution\n",
        "        elapsed_time = time.time() - start_time\n",
        "\n",
        "        # Stocker les résultats\n",
        "        results.append({\n",
        "            \"Modèle\": name,\n",
        "            \"Accuracy (moy.)\": round(acc_mean, 3),\n",
        "            \"Accuracy (écart-type)\": round(acc_std, 3),\n",
        "            \"Précision (moy.)\": round(prec_mean, 3),\n",
        "            \"Précision (écart-type)\": round(prec_std, 3),\n",
        "            \"AUC (moy.)\": round(auc_mean, 3),\n",
        "            \"AUC (écart-type)\": round(auc_std, 3),\n",
        "            \"Temps d'exécution (s)\": round(elapsed_time, 3)\n",
        "        })\n",
        "\n",
        "    # Affichage des résultats sous forme de DataFrame\n",
        "    results_df = pd.DataFrame(results)\n",
        "    return results_df\n"
      ]
    },
    {
      "cell_type": "markdown",
      "metadata": {
        "id": "7GipJwAjszNI"
      },
      "source": [
        "On peut alors executer la fonction sur les données :"
      ]
    },
    {
      "cell_type": "code",
      "execution_count": null,
      "metadata": {
        "id": "9XbEKaA5szNI",
        "outputId": "5253e76b-a294-44f0-d5d5-3e294e745404"
      },
      "outputs": [
        {
          "name": "stdout",
          "output_type": "stream",
          "text": [
            "Évaluation du modèle : Naive Bayes\n",
            "Évaluation du modèle : CART\n",
            "Évaluation du modèle : ID3\n",
            "Évaluation du modèle : Decision Stump\n",
            "Évaluation du modèle : MLP\n",
            "Évaluation du modèle : KNN\n",
            "Évaluation du modèle : Bagging\n",
            "Évaluation du modèle : AdaBoost\n",
            "Évaluation du modèle : Random Forest\n",
            "Évaluation du modèle : XGBoost\n",
            "Résultats sur les données \"brutes\" :\n",
            "           Modèle  Accuracy (moy.)  Accuracy (écart-type)  Précision (moy.)  \\\n",
            "0     Naive Bayes            0.766                  0.022             0.800   \n",
            "1            CART            0.706                  0.031             0.798   \n",
            "2             ID3            0.704                  0.033             0.791   \n",
            "3  Decision Stump            0.721                  0.028             0.736   \n",
            "4             MLP            0.706                  0.052             0.801   \n",
            "5             KNN            0.710                  0.039             0.759   \n",
            "6         Bagging            0.759                  0.020             0.808   \n",
            "7        AdaBoost            0.770                  0.029             0.815   \n",
            "8   Random Forest            0.768                  0.016             0.806   \n",
            "9         XGBoost            0.761                  0.033             0.812   \n",
            "\n",
            "   Précision (écart-type)  AUC (moy.)  AUC (écart-type)  Temps d'exécution (s)  \n",
            "0                   0.032       0.781             0.035                  0.377  \n",
            "1                   0.040       0.639             0.039                  1.321  \n",
            "2                   0.037       0.628             0.038                  1.328  \n",
            "3                   0.030       0.617             0.034                  0.298  \n",
            "4                   0.047       0.712             0.030                 22.804  \n",
            "5                   0.040       0.645             0.047                  1.216  \n",
            "6                   0.034       0.799             0.028                158.500  \n",
            "7                   0.037       0.807             0.030                 50.626  \n",
            "8                   0.031       0.818             0.023                 64.883  \n",
            "9                   0.039       0.793             0.024                 12.128  \n",
            "Évaluation du modèle : Naive Bayes\n",
            "Évaluation du modèle : CART\n",
            "Évaluation du modèle : ID3\n",
            "Évaluation du modèle : Decision Stump\n",
            "Évaluation du modèle : MLP\n",
            "Évaluation du modèle : KNN\n",
            "Évaluation du modèle : Bagging\n",
            "Évaluation du modèle : AdaBoost\n",
            "Évaluation du modèle : Random Forest\n",
            "Évaluation du modèle : XGBoost\n",
            "Résultats sur les données normalisées :\n",
            "           Modèle  Accuracy (moy.)  Accuracy (écart-type)  Précision (moy.)  \\\n",
            "0     Naive Bayes            0.757                  0.030             0.815   \n",
            "1            CART            0.707                  0.030             0.799   \n",
            "2             ID3            0.705                  0.032             0.792   \n",
            "3  Decision Stump            0.721                  0.028             0.736   \n",
            "4             MLP            0.780                  0.019             0.835   \n",
            "5             KNN            0.745                  0.027             0.794   \n",
            "6         Bagging            0.761                  0.020             0.810   \n",
            "7        AdaBoost            0.770                  0.029             0.814   \n",
            "8   Random Forest            0.768                  0.017             0.806   \n",
            "9         XGBoost            0.761                  0.033             0.812   \n",
            "\n",
            "   Précision (écart-type)  AUC (moy.)  AUC (écart-type)  Temps d'exécution (s)  \n",
            "0                   0.034       0.783             0.031                  0.344  \n",
            "1                   0.040       0.639             0.039                  1.020  \n",
            "2                   0.035       0.629             0.033                  1.205  \n",
            "3                   0.030       0.617             0.034                  0.389  \n",
            "4                   0.026       0.823             0.018                236.081  \n",
            "5                   0.035       0.744             0.024                  1.727  \n",
            "6                   0.034       0.800             0.028                151.271  \n",
            "7                   0.037       0.807             0.030                 50.945  \n",
            "8                   0.031       0.818             0.022                 65.294  \n",
            "9                   0.039       0.793             0.024                 11.828  \n"
          ]
        }
      ],
      "source": [
        "# Données brutes :\n",
        "results_df = run_classifiers(clfs, X_train, y_train)\n",
        "print(\"Résultats sur les données \\\"brutes\\\" :\")\n",
        "print(results_df)\n",
        "\n",
        "# Données normalisées :\n",
        "results_df_normalized = run_classifiers(clfs, X_train_scaled, y_train, normalize=True)\n",
        "print(\"\\n Résultats sur les données normalisées :\")\n",
        "print(results_df_normalized)\n",
        "\n"
      ]
    },
    {
      "cell_type": "markdown",
      "metadata": {
        "id": "AxKwLfYAszNI"
      },
      "source": [
        "- Analyse des performances sur les données non normalisées\n",
        "\n",
        "Sur les données brutes, Naives Bayes et random Forest ont obtenu les meilleurs résultats en terme d'accuracy tandis qu'AdaBoost affiche la meilleure précision. En terme d'AUC, c'est trandom forest qui maximise ce critère de discrimination entre les classes. En revanche CART et ID3 sont moins bons.\n",
        "D'un point de vu temps d'execution, c'est Naives Bayes qui est le plus rapide.\n",
        "C'est le modèle qu'on choisit comme le meilleur.\n",
        "\n",
        "- Analyse des performances sur les données normalisées :\n",
        "\n",
        "La normalisation semble avoir un effet significatif sur les modèles. Le MLP augmente son accuracy de 0.71 a 0.78 et sa précision de 0.8 a 0.83 ce qui en fait le meilleur modèle en terme de performances globales. Le KNN aussi améliore son accuracy. En revanche, les modèles basés sur les arberes de décsions ne sont eux pas addectés par la normalisation.\n",
        "En terme d'AUC c'est toujours el MLP qui atteint la meilleure métrique suivit de random forest et AdaBoost ce qui le place en tant que modèle le mieux apte a distinguer les classes positifs et négatives. En revanche c'est aussi le plus long a l'execution mettant plus de 236 secondes quand certains comme random forest ou adaboost qui sont assez performant mettent envirion 1 min.\n",
        "\n",
        "\n",
        "- Choix du modèle :\n",
        "\n",
        "**Sans contrainte de temps**, on choisit le **MLP avec normalisation** en raison de sa capacité à capturer les relations complexes entre les variables. Si l'on veut un modèle **équilibré** on se tournera plus vers **Random Forest** ou **AdaBoost** permettant un bon compromis entre temps et résultats.\n",
        "Enfin, si le **temps** est très imporant, le modèle a choisir est le **Naive Bayes**"
      ]
    },
    {
      "cell_type": "markdown",
      "metadata": {
        "id": "FU_FXfMCszNJ"
      },
      "source": [
        "## II - Apprentissage supervisé : Données hétérogènes\n",
        "\n",
        "L'objectif de cette partie est de faire une étude comparative entre plusieurs algorithmes d'apprentisssage supervisé sur un nouveauu jeu de données de crédit scoring.\n",
        "\n",
        "Le fichier de données comporte 688 instantes décrites par 15 variables caractéristiques. La variable à prédire est \"classe\" (dernière colonne du fichier) et est de nature nominale possedant un nombre fini de valeurs (\"+\" et \"-\").\n",
        "\n",
        "Les exemples de ce jeu de données représentent des personnes pour lesquels un crédit a été accordé où non."
      ]
    },
    {
      "cell_type": "markdown",
      "metadata": {
        "id": "goaC-xrhszNJ"
      },
      "source": [
        "### 1) Préparation des données\n",
        "\n",
        "- **Chargement des données et préparation**\n",
        "\n",
        "Dans un premier temps, on ne considère que les caractéristiques continues (numériques) de ce jeu de données sans les données manquantes"
      ]
    }
  ],
  "metadata": {
    "kernelspec": {
      "display_name": "base",
      "language": "python",
      "name": "python3"
    },
    "language_info": {
      "codemirror_mode": {
        "name": "ipython",
        "version": 3
      },
      "file_extension": ".py",
      "mimetype": "text/x-python",
      "name": "python",
      "nbconvert_exporter": "python",
      "pygments_lexer": "ipython3",
      "version": "3.10.9"
    },
    "colab": {
      "provenance": []
    }
  },
  "nbformat": 4,
  "nbformat_minor": 0
}